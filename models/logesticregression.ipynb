{
 "cells": [
  {
   "cell_type": "markdown",
   "metadata": {},
   "source": [
    "# Ciredit risk modelling using German Credit Card Dataset"
   ]
  },
  {
   "cell_type": "code",
   "execution_count": 1,
   "metadata": {},
   "outputs": [],
   "source": [
    "import pandas as pd\n",
    "import numpy as np \n",
    "import matplotlib.pyplot as plt\n",
    "import seaborn as sns"
   ]
  },
  {
   "cell_type": "code",
   "execution_count": 2,
   "metadata": {},
   "outputs": [],
   "source": [
    "#loading dataset\n",
    "df = pd.read_csv('../prepocessing/preprocessed_data.csv')"
   ]
  },
  {
   "cell_type": "code",
   "execution_count": 3,
   "metadata": {},
   "outputs": [
    {
     "data": {
      "text/html": [
       "<div>\n",
       "<style scoped>\n",
       "    .dataframe tbody tr th:only-of-type {\n",
       "        vertical-align: middle;\n",
       "    }\n",
       "\n",
       "    .dataframe tbody tr th {\n",
       "        vertical-align: top;\n",
       "    }\n",
       "\n",
       "    .dataframe thead th {\n",
       "        text-align: right;\n",
       "    }\n",
       "</style>\n",
       "<table border=\"1\" class=\"dataframe\">\n",
       "  <thead>\n",
       "    <tr style=\"text-align: right;\">\n",
       "      <th></th>\n",
       "      <th>Unnamed: 0</th>\n",
       "      <th>age</th>\n",
       "      <th>job</th>\n",
       "      <th>credit_amt</th>\n",
       "      <th>Duration</th>\n",
       "      <th>sex</th>\n",
       "      <th>housing</th>\n",
       "      <th>sav_acc</th>\n",
       "      <th>purpose</th>\n",
       "      <th>risk</th>\n",
       "    </tr>\n",
       "  </thead>\n",
       "  <tbody>\n",
       "    <tr>\n",
       "      <th>0</th>\n",
       "      <td>1</td>\n",
       "      <td>22</td>\n",
       "      <td>2</td>\n",
       "      <td>5951</td>\n",
       "      <td>48</td>\n",
       "      <td>1</td>\n",
       "      <td>0</td>\n",
       "      <td>0.0</td>\n",
       "      <td>0</td>\n",
       "      <td>1</td>\n",
       "    </tr>\n",
       "    <tr>\n",
       "      <th>1</th>\n",
       "      <td>2</td>\n",
       "      <td>49</td>\n",
       "      <td>1</td>\n",
       "      <td>2096</td>\n",
       "      <td>12</td>\n",
       "      <td>0</td>\n",
       "      <td>0</td>\n",
       "      <td>0.0</td>\n",
       "      <td>1</td>\n",
       "      <td>0</td>\n",
       "    </tr>\n",
       "    <tr>\n",
       "      <th>2</th>\n",
       "      <td>3</td>\n",
       "      <td>45</td>\n",
       "      <td>2</td>\n",
       "      <td>7882</td>\n",
       "      <td>42</td>\n",
       "      <td>0</td>\n",
       "      <td>3</td>\n",
       "      <td>0.0</td>\n",
       "      <td>2</td>\n",
       "      <td>0</td>\n",
       "    </tr>\n",
       "    <tr>\n",
       "      <th>3</th>\n",
       "      <td>4</td>\n",
       "      <td>53</td>\n",
       "      <td>2</td>\n",
       "      <td>4870</td>\n",
       "      <td>24</td>\n",
       "      <td>0</td>\n",
       "      <td>3</td>\n",
       "      <td>0.0</td>\n",
       "      <td>3</td>\n",
       "      <td>1</td>\n",
       "    </tr>\n",
       "    <tr>\n",
       "      <th>4</th>\n",
       "      <td>6</td>\n",
       "      <td>53</td>\n",
       "      <td>2</td>\n",
       "      <td>2835</td>\n",
       "      <td>24</td>\n",
       "      <td>0</td>\n",
       "      <td>0</td>\n",
       "      <td>3.0</td>\n",
       "      <td>2</td>\n",
       "      <td>0</td>\n",
       "    </tr>\n",
       "  </tbody>\n",
       "</table>\n",
       "</div>"
      ],
      "text/plain": [
       "   Unnamed: 0  age  job  credit_amt  Duration  sex  housing  sav_acc  purpose  \\\n",
       "0           1   22    2        5951        48    1        0      0.0        0   \n",
       "1           2   49    1        2096        12    0        0      0.0        1   \n",
       "2           3   45    2        7882        42    0        3      0.0        2   \n",
       "3           4   53    2        4870        24    0        3      0.0        3   \n",
       "4           6   53    2        2835        24    0        0      3.0        2   \n",
       "\n",
       "   risk  \n",
       "0     1  \n",
       "1     0  \n",
       "2     0  \n",
       "3     1  \n",
       "4     0  "
      ]
     },
     "execution_count": 3,
     "metadata": {},
     "output_type": "execute_result"
    }
   ],
   "source": [
    "df.head()"
   ]
  },
  {
   "cell_type": "code",
   "execution_count": 5,
   "metadata": {},
   "outputs": [],
   "source": [
    "df=df.drop('Unnamed: 0',axis=1)"
   ]
  },
  {
   "cell_type": "code",
   "execution_count": 6,
   "metadata": {},
   "outputs": [
    {
     "data": {
      "text/html": [
       "<div>\n",
       "<style scoped>\n",
       "    .dataframe tbody tr th:only-of-type {\n",
       "        vertical-align: middle;\n",
       "    }\n",
       "\n",
       "    .dataframe tbody tr th {\n",
       "        vertical-align: top;\n",
       "    }\n",
       "\n",
       "    .dataframe thead th {\n",
       "        text-align: right;\n",
       "    }\n",
       "</style>\n",
       "<table border=\"1\" class=\"dataframe\">\n",
       "  <thead>\n",
       "    <tr style=\"text-align: right;\">\n",
       "      <th></th>\n",
       "      <th>age</th>\n",
       "      <th>job</th>\n",
       "      <th>credit_amt</th>\n",
       "      <th>Duration</th>\n",
       "      <th>sex</th>\n",
       "      <th>housing</th>\n",
       "      <th>sav_acc</th>\n",
       "      <th>purpose</th>\n",
       "      <th>risk</th>\n",
       "    </tr>\n",
       "  </thead>\n",
       "  <tbody>\n",
       "    <tr>\n",
       "      <th>0</th>\n",
       "      <td>22</td>\n",
       "      <td>2</td>\n",
       "      <td>5951</td>\n",
       "      <td>48</td>\n",
       "      <td>1</td>\n",
       "      <td>0</td>\n",
       "      <td>0.0</td>\n",
       "      <td>0</td>\n",
       "      <td>1</td>\n",
       "    </tr>\n",
       "    <tr>\n",
       "      <th>1</th>\n",
       "      <td>49</td>\n",
       "      <td>1</td>\n",
       "      <td>2096</td>\n",
       "      <td>12</td>\n",
       "      <td>0</td>\n",
       "      <td>0</td>\n",
       "      <td>0.0</td>\n",
       "      <td>1</td>\n",
       "      <td>0</td>\n",
       "    </tr>\n",
       "    <tr>\n",
       "      <th>2</th>\n",
       "      <td>45</td>\n",
       "      <td>2</td>\n",
       "      <td>7882</td>\n",
       "      <td>42</td>\n",
       "      <td>0</td>\n",
       "      <td>3</td>\n",
       "      <td>0.0</td>\n",
       "      <td>2</td>\n",
       "      <td>0</td>\n",
       "    </tr>\n",
       "    <tr>\n",
       "      <th>3</th>\n",
       "      <td>53</td>\n",
       "      <td>2</td>\n",
       "      <td>4870</td>\n",
       "      <td>24</td>\n",
       "      <td>0</td>\n",
       "      <td>3</td>\n",
       "      <td>0.0</td>\n",
       "      <td>3</td>\n",
       "      <td>1</td>\n",
       "    </tr>\n",
       "    <tr>\n",
       "      <th>4</th>\n",
       "      <td>53</td>\n",
       "      <td>2</td>\n",
       "      <td>2835</td>\n",
       "      <td>24</td>\n",
       "      <td>0</td>\n",
       "      <td>0</td>\n",
       "      <td>3.0</td>\n",
       "      <td>2</td>\n",
       "      <td>0</td>\n",
       "    </tr>\n",
       "  </tbody>\n",
       "</table>\n",
       "</div>"
      ],
      "text/plain": [
       "   age  job  credit_amt  Duration  sex  housing  sav_acc  purpose  risk\n",
       "0   22    2        5951        48    1        0      0.0        0     1\n",
       "1   49    1        2096        12    0        0      0.0        1     0\n",
       "2   45    2        7882        42    0        3      0.0        2     0\n",
       "3   53    2        4870        24    0        3      0.0        3     1\n",
       "4   53    2        2835        24    0        0      3.0        2     0"
      ]
     },
     "execution_count": 6,
     "metadata": {},
     "output_type": "execute_result"
    }
   ],
   "source": [
    "df.head()"
   ]
  },
  {
   "cell_type": "markdown",
   "metadata": {},
   "source": [
    "### Feature Engineering"
   ]
  },
  {
   "cell_type": "markdown",
   "metadata": {},
   "source": [
    "we ca define a new feature that is \n",
    "\n",
    "credit_amt / duration \n",
    "\n",
    "this can be a good estimator of credit risk"
   ]
  },
  {
   "cell_type": "code",
   "execution_count": 8,
   "metadata": {},
   "outputs": [],
   "source": [
    "df['credit_per_month'] = df['credit_amt'] / df['Duration']"
   ]
  },
  {
   "cell_type": "code",
   "execution_count": 9,
   "metadata": {},
   "outputs": [
    {
     "data": {
      "text/html": [
       "<div>\n",
       "<style scoped>\n",
       "    .dataframe tbody tr th:only-of-type {\n",
       "        vertical-align: middle;\n",
       "    }\n",
       "\n",
       "    .dataframe tbody tr th {\n",
       "        vertical-align: top;\n",
       "    }\n",
       "\n",
       "    .dataframe thead th {\n",
       "        text-align: right;\n",
       "    }\n",
       "</style>\n",
       "<table border=\"1\" class=\"dataframe\">\n",
       "  <thead>\n",
       "    <tr style=\"text-align: right;\">\n",
       "      <th></th>\n",
       "      <th>age</th>\n",
       "      <th>job</th>\n",
       "      <th>credit_amt</th>\n",
       "      <th>Duration</th>\n",
       "      <th>sex</th>\n",
       "      <th>housing</th>\n",
       "      <th>sav_acc</th>\n",
       "      <th>purpose</th>\n",
       "      <th>risk</th>\n",
       "      <th>credit_per_month</th>\n",
       "    </tr>\n",
       "  </thead>\n",
       "  <tbody>\n",
       "    <tr>\n",
       "      <th>age</th>\n",
       "      <td>1.000000</td>\n",
       "      <td>-0.015036</td>\n",
       "      <td>0.026014</td>\n",
       "      <td>-0.045577</td>\n",
       "      <td>-0.150733</td>\n",
       "      <td>0.187405</td>\n",
       "      <td>0.037279</td>\n",
       "      <td>0.090909</td>\n",
       "      <td>-0.077953</td>\n",
       "      <td>0.134201</td>\n",
       "    </tr>\n",
       "    <tr>\n",
       "      <th>job</th>\n",
       "      <td>-0.015036</td>\n",
       "      <td>1.000000</td>\n",
       "      <td>0.307173</td>\n",
       "      <td>0.220413</td>\n",
       "      <td>-0.070399</td>\n",
       "      <td>0.133259</td>\n",
       "      <td>-0.037338</td>\n",
       "      <td>0.025210</td>\n",
       "      <td>0.036742</td>\n",
       "      <td>0.189432</td>\n",
       "    </tr>\n",
       "    <tr>\n",
       "      <th>credit_amt</th>\n",
       "      <td>0.026014</td>\n",
       "      <td>0.307173</td>\n",
       "      <td>1.000000</td>\n",
       "      <td>0.631132</td>\n",
       "      <td>-0.071275</td>\n",
       "      <td>0.160001</td>\n",
       "      <td>-0.065134</td>\n",
       "      <td>0.221189</td>\n",
       "      <td>0.194125</td>\n",
       "      <td>0.520386</td>\n",
       "    </tr>\n",
       "    <tr>\n",
       "      <th>Duration</th>\n",
       "      <td>-0.045577</td>\n",
       "      <td>0.220413</td>\n",
       "      <td>0.631132</td>\n",
       "      <td>1.000000</td>\n",
       "      <td>-0.065814</td>\n",
       "      <td>0.150137</td>\n",
       "      <td>-0.029050</td>\n",
       "      <td>0.103108</td>\n",
       "      <td>0.272686</td>\n",
       "      <td>-0.125515</td>\n",
       "    </tr>\n",
       "    <tr>\n",
       "      <th>sex</th>\n",
       "      <td>-0.150733</td>\n",
       "      <td>-0.070399</td>\n",
       "      <td>-0.071275</td>\n",
       "      <td>-0.065814</td>\n",
       "      <td>1.000000</td>\n",
       "      <td>0.005440</td>\n",
       "      <td>-0.017152</td>\n",
       "      <td>-0.064850</td>\n",
       "      <td>0.058062</td>\n",
       "      <td>-0.070419</td>\n",
       "    </tr>\n",
       "    <tr>\n",
       "      <th>housing</th>\n",
       "      <td>0.187405</td>\n",
       "      <td>0.133259</td>\n",
       "      <td>0.160001</td>\n",
       "      <td>0.150137</td>\n",
       "      <td>0.005440</td>\n",
       "      <td>1.000000</td>\n",
       "      <td>-0.028549</td>\n",
       "      <td>0.081081</td>\n",
       "      <td>0.135166</td>\n",
       "      <td>0.069602</td>\n",
       "    </tr>\n",
       "    <tr>\n",
       "      <th>sav_acc</th>\n",
       "      <td>0.037279</td>\n",
       "      <td>-0.037338</td>\n",
       "      <td>-0.065134</td>\n",
       "      <td>-0.029050</td>\n",
       "      <td>-0.017152</td>\n",
       "      <td>-0.028549</td>\n",
       "      <td>1.000000</td>\n",
       "      <td>-0.003972</td>\n",
       "      <td>-0.138183</td>\n",
       "      <td>-0.063351</td>\n",
       "    </tr>\n",
       "    <tr>\n",
       "      <th>purpose</th>\n",
       "      <td>0.090909</td>\n",
       "      <td>0.025210</td>\n",
       "      <td>0.221189</td>\n",
       "      <td>0.103108</td>\n",
       "      <td>-0.064850</td>\n",
       "      <td>0.081081</td>\n",
       "      <td>-0.003972</td>\n",
       "      <td>1.000000</td>\n",
       "      <td>0.082411</td>\n",
       "      <td>0.122927</td>\n",
       "    </tr>\n",
       "    <tr>\n",
       "      <th>risk</th>\n",
       "      <td>-0.077953</td>\n",
       "      <td>0.036742</td>\n",
       "      <td>0.194125</td>\n",
       "      <td>0.272686</td>\n",
       "      <td>0.058062</td>\n",
       "      <td>0.135166</td>\n",
       "      <td>-0.138183</td>\n",
       "      <td>0.082411</td>\n",
       "      <td>1.000000</td>\n",
       "      <td>0.001807</td>\n",
       "    </tr>\n",
       "    <tr>\n",
       "      <th>credit_per_month</th>\n",
       "      <td>0.134201</td>\n",
       "      <td>0.189432</td>\n",
       "      <td>0.520386</td>\n",
       "      <td>-0.125515</td>\n",
       "      <td>-0.070419</td>\n",
       "      <td>0.069602</td>\n",
       "      <td>-0.063351</td>\n",
       "      <td>0.122927</td>\n",
       "      <td>0.001807</td>\n",
       "      <td>1.000000</td>\n",
       "    </tr>\n",
       "  </tbody>\n",
       "</table>\n",
       "</div>"
      ],
      "text/plain": [
       "                       age       job  credit_amt  Duration       sex  \\\n",
       "age               1.000000 -0.015036    0.026014 -0.045577 -0.150733   \n",
       "job              -0.015036  1.000000    0.307173  0.220413 -0.070399   \n",
       "credit_amt        0.026014  0.307173    1.000000  0.631132 -0.071275   \n",
       "Duration         -0.045577  0.220413    0.631132  1.000000 -0.065814   \n",
       "sex              -0.150733 -0.070399   -0.071275 -0.065814  1.000000   \n",
       "housing           0.187405  0.133259    0.160001  0.150137  0.005440   \n",
       "sav_acc           0.037279 -0.037338   -0.065134 -0.029050 -0.017152   \n",
       "purpose           0.090909  0.025210    0.221189  0.103108 -0.064850   \n",
       "risk             -0.077953  0.036742    0.194125  0.272686  0.058062   \n",
       "credit_per_month  0.134201  0.189432    0.520386 -0.125515 -0.070419   \n",
       "\n",
       "                   housing   sav_acc   purpose      risk  credit_per_month  \n",
       "age               0.187405  0.037279  0.090909 -0.077953          0.134201  \n",
       "job               0.133259 -0.037338  0.025210  0.036742          0.189432  \n",
       "credit_amt        0.160001 -0.065134  0.221189  0.194125          0.520386  \n",
       "Duration          0.150137 -0.029050  0.103108  0.272686         -0.125515  \n",
       "sex               0.005440 -0.017152 -0.064850  0.058062         -0.070419  \n",
       "housing           1.000000 -0.028549  0.081081  0.135166          0.069602  \n",
       "sav_acc          -0.028549  1.000000 -0.003972 -0.138183         -0.063351  \n",
       "purpose           0.081081 -0.003972  1.000000  0.082411          0.122927  \n",
       "risk              0.135166 -0.138183  0.082411  1.000000          0.001807  \n",
       "credit_per_month  0.069602 -0.063351  0.122927  0.001807          1.000000  "
      ]
     },
     "execution_count": 9,
     "metadata": {},
     "output_type": "execute_result"
    }
   ],
   "source": [
    "df.corr()"
   ]
  },
  {
   "cell_type": "markdown",
   "metadata": {},
   "source": [
    "even now the correlation is not that high"
   ]
  },
  {
   "cell_type": "markdown",
   "metadata": {},
   "source": [
    "### Model Building"
   ]
  },
  {
   "cell_type": "code",
   "execution_count": 17,
   "metadata": {},
   "outputs": [],
   "source": [
    "from sklearn.model_selection import train_test_split\n",
    "from sklearn.linear_model import LogisticRegression\n",
    "from sklearn.metrics import accuracy_score,confusion_matrix,classification_report,roc_auc_score\n",
    "from sklearn.preprocessing import StandardScaler"
   ]
  },
  {
   "cell_type": "code",
   "execution_count": 12,
   "metadata": {},
   "outputs": [
    {
     "data": {
      "text/plain": [
       "Index(['age', 'job', 'credit_amt', 'Duration', 'sex', 'housing', 'sav_acc',\n",
       "       'purpose', 'risk', 'credit_per_month'],\n",
       "      dtype='object')"
      ]
     },
     "execution_count": 12,
     "metadata": {},
     "output_type": "execute_result"
    }
   ],
   "source": [
    "df.columns"
   ]
  },
  {
   "cell_type": "code",
   "execution_count": 14,
   "metadata": {},
   "outputs": [],
   "source": [
    "#features and target variable\n",
    "X = df[['age','job','credit_amt','Duration', 'sex', 'housing', 'sav_acc','purpose', 'credit_per_month']]\n",
    "y = df['risk']"
   ]
  },
  {
   "cell_type": "code",
   "execution_count": 43,
   "metadata": {},
   "outputs": [],
   "source": [
    "#splitting the data\n",
    "X_train , X_test, y_train, y_test = train_test_split(X,y,test_size=0.2,random_state=42)"
   ]
  },
  {
   "cell_type": "code",
   "execution_count": 44,
   "metadata": {},
   "outputs": [],
   "source": [
    "# Scale the data\n",
    "scaler = StandardScaler()\n",
    "X_train = scaler.fit_transform(X_train)\n",
    "X_test = scaler.transform(X_test)"
   ]
  },
  {
   "cell_type": "code",
   "execution_count": 19,
   "metadata": {},
   "outputs": [
    {
     "data": {
      "text/html": [
       "<style>#sk-container-id-2 {color: black;background-color: white;}#sk-container-id-2 pre{padding: 0;}#sk-container-id-2 div.sk-toggleable {background-color: white;}#sk-container-id-2 label.sk-toggleable__label {cursor: pointer;display: block;width: 100%;margin-bottom: 0;padding: 0.3em;box-sizing: border-box;text-align: center;}#sk-container-id-2 label.sk-toggleable__label-arrow:before {content: \"▸\";float: left;margin-right: 0.25em;color: #696969;}#sk-container-id-2 label.sk-toggleable__label-arrow:hover:before {color: black;}#sk-container-id-2 div.sk-estimator:hover label.sk-toggleable__label-arrow:before {color: black;}#sk-container-id-2 div.sk-toggleable__content {max-height: 0;max-width: 0;overflow: hidden;text-align: left;background-color: #f0f8ff;}#sk-container-id-2 div.sk-toggleable__content pre {margin: 0.2em;color: black;border-radius: 0.25em;background-color: #f0f8ff;}#sk-container-id-2 input.sk-toggleable__control:checked~div.sk-toggleable__content {max-height: 200px;max-width: 100%;overflow: auto;}#sk-container-id-2 input.sk-toggleable__control:checked~label.sk-toggleable__label-arrow:before {content: \"▾\";}#sk-container-id-2 div.sk-estimator input.sk-toggleable__control:checked~label.sk-toggleable__label {background-color: #d4ebff;}#sk-container-id-2 div.sk-label input.sk-toggleable__control:checked~label.sk-toggleable__label {background-color: #d4ebff;}#sk-container-id-2 input.sk-hidden--visually {border: 0;clip: rect(1px 1px 1px 1px);clip: rect(1px, 1px, 1px, 1px);height: 1px;margin: -1px;overflow: hidden;padding: 0;position: absolute;width: 1px;}#sk-container-id-2 div.sk-estimator {font-family: monospace;background-color: #f0f8ff;border: 1px dotted black;border-radius: 0.25em;box-sizing: border-box;margin-bottom: 0.5em;}#sk-container-id-2 div.sk-estimator:hover {background-color: #d4ebff;}#sk-container-id-2 div.sk-parallel-item::after {content: \"\";width: 100%;border-bottom: 1px solid gray;flex-grow: 1;}#sk-container-id-2 div.sk-label:hover label.sk-toggleable__label {background-color: #d4ebff;}#sk-container-id-2 div.sk-serial::before {content: \"\";position: absolute;border-left: 1px solid gray;box-sizing: border-box;top: 0;bottom: 0;left: 50%;z-index: 0;}#sk-container-id-2 div.sk-serial {display: flex;flex-direction: column;align-items: center;background-color: white;padding-right: 0.2em;padding-left: 0.2em;position: relative;}#sk-container-id-2 div.sk-item {position: relative;z-index: 1;}#sk-container-id-2 div.sk-parallel {display: flex;align-items: stretch;justify-content: center;background-color: white;position: relative;}#sk-container-id-2 div.sk-item::before, #sk-container-id-2 div.sk-parallel-item::before {content: \"\";position: absolute;border-left: 1px solid gray;box-sizing: border-box;top: 0;bottom: 0;left: 50%;z-index: -1;}#sk-container-id-2 div.sk-parallel-item {display: flex;flex-direction: column;z-index: 1;position: relative;background-color: white;}#sk-container-id-2 div.sk-parallel-item:first-child::after {align-self: flex-end;width: 50%;}#sk-container-id-2 div.sk-parallel-item:last-child::after {align-self: flex-start;width: 50%;}#sk-container-id-2 div.sk-parallel-item:only-child::after {width: 0;}#sk-container-id-2 div.sk-dashed-wrapped {border: 1px dashed gray;margin: 0 0.4em 0.5em 0.4em;box-sizing: border-box;padding-bottom: 0.4em;background-color: white;}#sk-container-id-2 div.sk-label label {font-family: monospace;font-weight: bold;display: inline-block;line-height: 1.2em;}#sk-container-id-2 div.sk-label-container {text-align: center;}#sk-container-id-2 div.sk-container {/* jupyter's `normalize.less` sets `[hidden] { display: none; }` but bootstrap.min.css set `[hidden] { display: none !important; }` so we also need the `!important` here to be able to override the default hidden behavior on the sphinx rendered scikit-learn.org. See: https://github.com/scikit-learn/scikit-learn/issues/21755 */display: inline-block !important;position: relative;}#sk-container-id-2 div.sk-text-repr-fallback {display: none;}</style><div id=\"sk-container-id-2\" class=\"sk-top-container\"><div class=\"sk-text-repr-fallback\"><pre>LogisticRegression(max_iter=1000)</pre><b>In a Jupyter environment, please rerun this cell to show the HTML representation or trust the notebook. <br />On GitHub, the HTML representation is unable to render, please try loading this page with nbviewer.org.</b></div><div class=\"sk-container\" hidden><div class=\"sk-item\"><div class=\"sk-estimator sk-toggleable\"><input class=\"sk-toggleable__control sk-hidden--visually\" id=\"sk-estimator-id-2\" type=\"checkbox\" checked><label for=\"sk-estimator-id-2\" class=\"sk-toggleable__label sk-toggleable__label-arrow\">LogisticRegression</label><div class=\"sk-toggleable__content\"><pre>LogisticRegression(max_iter=1000)</pre></div></div></div></div></div>"
      ],
      "text/plain": [
       "LogisticRegression(max_iter=1000)"
      ]
     },
     "execution_count": 19,
     "metadata": {},
     "output_type": "execute_result"
    }
   ],
   "source": [
    "model = LogisticRegression(max_iter=1000)\n",
    "model.fit(X_train, y_train)"
   ]
  },
  {
   "cell_type": "code",
   "execution_count": 20,
   "metadata": {},
   "outputs": [],
   "source": [
    "#making predictions\n",
    "y_pred = model.predict(X_test)\n",
    "y_pred_probab = model.predict_proba(X_test)[:,1]"
   ]
  },
  {
   "cell_type": "code",
   "execution_count": 30,
   "metadata": {},
   "outputs": [],
   "source": [
    "accuracy = accuracy_score(y_test, y_pred)\n",
    "conf_matrix = confusion_matrix(y_test, y_pred,normalize='true')\n",
    "class_report = classification_report(y_test, y_pred)\n",
    "roc_auc = roc_auc_score(y_test, y_pred_probab)"
   ]
  },
  {
   "cell_type": "code",
   "execution_count": 31,
   "metadata": {},
   "outputs": [
    {
     "name": "stdout",
     "output_type": "stream",
     "text": [
      "Accuracy: 0.774390243902439\n"
     ]
    }
   ],
   "source": [
    "print(f\"Accuracy: {accuracy}\")"
   ]
  },
  {
   "cell_type": "code",
   "execution_count": 32,
   "metadata": {},
   "outputs": [
    {
     "name": "stdout",
     "output_type": "stream",
     "text": [
      "Confusion Matrix:\n",
      "[[0.92307692 0.07692308]\n",
      " [0.59574468 0.40425532]]\n"
     ]
    }
   ],
   "source": [
    "print(f\"Confusion Matrix:\\n{conf_matrix}\")"
   ]
  },
  {
   "cell_type": "code",
   "execution_count": 25,
   "metadata": {},
   "outputs": [
    {
     "name": "stdout",
     "output_type": "stream",
     "text": [
      "Classification Report:\n",
      "              precision    recall  f1-score   support\n",
      "\n",
      "           0       0.79      0.92      0.85       117\n",
      "           1       0.68      0.40      0.51        47\n",
      "\n",
      "    accuracy                           0.77       164\n",
      "   macro avg       0.74      0.66      0.68       164\n",
      "weighted avg       0.76      0.77      0.75       164\n",
      "\n"
     ]
    }
   ],
   "source": [
    "print(f\"Classification Report:\\n{class_report}\")"
   ]
  },
  {
   "cell_type": "code",
   "execution_count": 26,
   "metadata": {},
   "outputs": [
    {
     "name": "stdout",
     "output_type": "stream",
     "text": [
      "ROC AUC Score: 0.7166757592289508\n"
     ]
    }
   ],
   "source": [
    "print(f\"ROC AUC Score: {roc_auc}\")"
   ]
  },
  {
   "cell_type": "markdown",
   "metadata": {},
   "source": [
    "- High Recall for Non-Defaulters (0.92): The model accurately identifies most non-defaulters, ensuring that it correctly recognizes customers who are low risk.\n",
    "\n",
    "- Low Recall for Defaulters (0.4): The model misses a significant number of defaulters, indicating that it might need improvements to better catch high-risk customers.\n",
    "\n",
    "The model is strong in identifying non-defaulters but needs enhancements to better detect defaulters to reduce potential financial risks."
   ]
  },
  {
   "cell_type": "code",
   "execution_count": 33,
   "metadata": {},
   "outputs": [
    {
     "data": {
      "text/plain": [
       "risk\n",
       "0    549\n",
       "1    268\n",
       "Name: count, dtype: int64"
      ]
     },
     "execution_count": 33,
     "metadata": {},
     "output_type": "execute_result"
    }
   ],
   "source": [
    "df.risk.value_counts()"
   ]
  },
  {
   "cell_type": "markdown",
   "metadata": {},
   "source": [
    "we can see that the '1' are low in number. it is a minority class. We can use resampling technique to increase the number of instances of '1'"
   ]
  },
  {
   "cell_type": "code",
   "execution_count": 39,
   "metadata": {},
   "outputs": [],
   "source": [
    "#Using SMOTE to oversample\n",
    "from imblearn.over_sampling import SMOTE\n",
    "\n",
    "smote = SMOTE(random_state=42)\n",
    "X_train_resampled , y_train_resampled = smote.fit_resample(X_train,y_train)"
   ]
  }
 ],
 "metadata": {
  "kernelspec": {
   "display_name": "base",
   "language": "python",
   "name": "python3"
  },
  "language_info": {
   "codemirror_mode": {
    "name": "ipython",
    "version": 3
   },
   "file_extension": ".py",
   "mimetype": "text/x-python",
   "name": "python",
   "nbconvert_exporter": "python",
   "pygments_lexer": "ipython3",
   "version": "3.11.7"
  }
 },
 "nbformat": 4,
 "nbformat_minor": 2
}
